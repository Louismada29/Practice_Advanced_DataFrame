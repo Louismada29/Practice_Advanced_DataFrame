{
  "nbformat": 4,
  "nbformat_minor": 0,
  "metadata": {
    "colab": {
      "name": "Advanced_DataFrame.ipynb",
      "provenance": [],
      "authorship_tag": "ABX9TyNdn+7R7mqLvS/kDY3aTuFR",
      "include_colab_link": true
    },
    "kernelspec": {
      "name": "python3",
      "display_name": "Python 3"
    },
    "language_info": {
      "name": "python"
    }
  },
  "cells": [
    {
      "cell_type": "markdown",
      "metadata": {
        "id": "view-in-github",
        "colab_type": "text"
      },
      "source": [
        "<a href=\"https://colab.research.google.com/github/Louismada29/Practice_Advanced_DataFrame/blob/main/Advanced_DataFrame.ipynb\" target=\"_parent\"><img src=\"https://colab.research.google.com/assets/colab-badge.svg\" alt=\"Open In Colab\"/></a>"
      ]
    },
    {
      "cell_type": "code",
      "metadata": {
        "id": "2N5QjGEnr6r-"
      },
      "source": [
        "import pandas as pd"
      ],
      "execution_count": 1,
      "outputs": []
    },
    {
      "cell_type": "markdown",
      "metadata": {
        "id": "d31aTBUpuWbY"
      },
      "source": [
        "# Merging DataFrame"
      ]
    },
    {
      "cell_type": "code",
      "metadata": {
        "colab": {
          "base_uri": "https://localhost:8080/"
        },
        "id": "vhyUMMQkuVba",
        "outputId": "86447ac9-3306-4a8b-fbb6-a99b0312f97f"
      },
      "source": [
        "kiri = pd.DataFrame({\n",
        "    'Id':[1,2,3],\n",
        "    'Nama':['Budi','Joko','Maya'],\n",
        "    'Alamat':['Jakarta','Surabaya','Medan']\n",
        "})\n",
        "kanan = pd.DataFrame({\n",
        "    'Id':[1,2,3],\n",
        "    'Nama':['Jane','Mike','Dave'],\n",
        "    'Alamat':['Semarang','Yogya','Solo']\n",
        "})\n",
        "print(kiri)\n",
        "print(kanan)"
      ],
      "execution_count": 2,
      "outputs": [
        {
          "output_type": "stream",
          "name": "stdout",
          "text": [
            "   Id  Nama    Alamat\n",
            "0   1  Budi   Jakarta\n",
            "1   2  Joko  Surabaya\n",
            "2   3  Maya     Medan\n",
            "   Id  Nama    Alamat\n",
            "0   1  Jane  Semarang\n",
            "1   2  Mike     Yogya\n",
            "2   3  Dave      Solo\n"
          ]
        }
      ]
    },
    {
      "cell_type": "code",
      "metadata": {
        "colab": {
          "base_uri": "https://localhost:8080/",
          "height": 141
        },
        "id": "rzJWPtcTvXgR",
        "outputId": "90988513-9e0f-4bc4-80c5-7b1cc0bbebcf"
      },
      "source": [
        "gabung = pd.merge(kiri,kanan, on='Id') # default = inner join\n",
        "gabung"
      ],
      "execution_count": 3,
      "outputs": [
        {
          "output_type": "execute_result",
          "data": {
            "text/html": [
              "<div>\n",
              "<style scoped>\n",
              "    .dataframe tbody tr th:only-of-type {\n",
              "        vertical-align: middle;\n",
              "    }\n",
              "\n",
              "    .dataframe tbody tr th {\n",
              "        vertical-align: top;\n",
              "    }\n",
              "\n",
              "    .dataframe thead th {\n",
              "        text-align: right;\n",
              "    }\n",
              "</style>\n",
              "<table border=\"1\" class=\"dataframe\">\n",
              "  <thead>\n",
              "    <tr style=\"text-align: right;\">\n",
              "      <th></th>\n",
              "      <th>Id</th>\n",
              "      <th>Nama_x</th>\n",
              "      <th>Alamat_x</th>\n",
              "      <th>Nama_y</th>\n",
              "      <th>Alamat_y</th>\n",
              "    </tr>\n",
              "  </thead>\n",
              "  <tbody>\n",
              "    <tr>\n",
              "      <th>0</th>\n",
              "      <td>1</td>\n",
              "      <td>Budi</td>\n",
              "      <td>Jakarta</td>\n",
              "      <td>Jane</td>\n",
              "      <td>Semarang</td>\n",
              "    </tr>\n",
              "    <tr>\n",
              "      <th>1</th>\n",
              "      <td>2</td>\n",
              "      <td>Joko</td>\n",
              "      <td>Surabaya</td>\n",
              "      <td>Mike</td>\n",
              "      <td>Yogya</td>\n",
              "    </tr>\n",
              "    <tr>\n",
              "      <th>2</th>\n",
              "      <td>3</td>\n",
              "      <td>Maya</td>\n",
              "      <td>Medan</td>\n",
              "      <td>Dave</td>\n",
              "      <td>Solo</td>\n",
              "    </tr>\n",
              "  </tbody>\n",
              "</table>\n",
              "</div>"
            ],
            "text/plain": [
              "   Id Nama_x  Alamat_x Nama_y  Alamat_y\n",
              "0   1   Budi   Jakarta   Jane  Semarang\n",
              "1   2   Joko  Surabaya   Mike     Yogya\n",
              "2   3   Maya     Medan   Dave      Solo"
            ]
          },
          "metadata": {},
          "execution_count": 3
        }
      ]
    },
    {
      "cell_type": "code",
      "metadata": {
        "colab": {
          "base_uri": "https://localhost:8080/"
        },
        "id": "VdrEInovvm9T",
        "outputId": "9e285f14-407b-488e-a852-e935b54837b0"
      },
      "source": [
        "karyawan = pd.DataFrame({\n",
        "    'Nama': ['Budi', 'Joko', 'Maya'],\n",
        "    'Alamat':['Jakarta','Surabaya','Medan'],\n",
        "    'Id Pekerjaan':[1,7,2]\n",
        "})\n",
        "pekerjaan = pd.DataFrame({\n",
        "    'Id Pekerjaan':[2,1,4,3],\n",
        "    'Nama':['Programmer','Data Engineer','Manager', 'Web Developer'],\n",
        "    'Gaji':[5000,4000,3000,6000]\n",
        "})\n",
        "print(karyawan)\n",
        "print(pekerjaan)"
      ],
      "execution_count": 11,
      "outputs": [
        {
          "output_type": "stream",
          "name": "stdout",
          "text": [
            "   Nama    Alamat  Id Pekerjaan\n",
            "0  Budi   Jakarta             1\n",
            "1  Joko  Surabaya             7\n",
            "2  Maya     Medan             2\n",
            "   Id Pekerjaan           Nama  Gaji\n",
            "0             2     Programmer  5000\n",
            "1             1  Data Engineer  4000\n",
            "2             4        Manager  3000\n",
            "3             3  Web Developer  6000\n"
          ]
        }
      ]
    },
    {
      "cell_type": "code",
      "metadata": {
        "colab": {
          "base_uri": "https://localhost:8080/",
          "height": 141
        },
        "id": "9fPNG-2uw9bf",
        "outputId": "8501bef7-4ad3-4653-8d3f-2d55637547c7"
      },
      "source": [
        "gabung_pekerjaan = pd.merge(karyawan,pekerjaan, on= 'Id Pekerjaan',how = 'left',sort= True,suffixes=('_Pegawai','_Pekerjaan'))\n",
        "gabung_pekerjaan"
      ],
      "execution_count": 15,
      "outputs": [
        {
          "output_type": "execute_result",
          "data": {
            "text/html": [
              "<div>\n",
              "<style scoped>\n",
              "    .dataframe tbody tr th:only-of-type {\n",
              "        vertical-align: middle;\n",
              "    }\n",
              "\n",
              "    .dataframe tbody tr th {\n",
              "        vertical-align: top;\n",
              "    }\n",
              "\n",
              "    .dataframe thead th {\n",
              "        text-align: right;\n",
              "    }\n",
              "</style>\n",
              "<table border=\"1\" class=\"dataframe\">\n",
              "  <thead>\n",
              "    <tr style=\"text-align: right;\">\n",
              "      <th></th>\n",
              "      <th>Nama_Pegawai</th>\n",
              "      <th>Alamat</th>\n",
              "      <th>Id Pekerjaan</th>\n",
              "      <th>Nama_Pekerjaan</th>\n",
              "      <th>Gaji</th>\n",
              "    </tr>\n",
              "  </thead>\n",
              "  <tbody>\n",
              "    <tr>\n",
              "      <th>0</th>\n",
              "      <td>Budi</td>\n",
              "      <td>Jakarta</td>\n",
              "      <td>1</td>\n",
              "      <td>Data Engineer</td>\n",
              "      <td>4000.0</td>\n",
              "    </tr>\n",
              "    <tr>\n",
              "      <th>1</th>\n",
              "      <td>Maya</td>\n",
              "      <td>Medan</td>\n",
              "      <td>2</td>\n",
              "      <td>Programmer</td>\n",
              "      <td>5000.0</td>\n",
              "    </tr>\n",
              "    <tr>\n",
              "      <th>2</th>\n",
              "      <td>Joko</td>\n",
              "      <td>Surabaya</td>\n",
              "      <td>7</td>\n",
              "      <td>NaN</td>\n",
              "      <td>NaN</td>\n",
              "    </tr>\n",
              "  </tbody>\n",
              "</table>\n",
              "</div>"
            ],
            "text/plain": [
              "  Nama_Pegawai    Alamat  Id Pekerjaan Nama_Pekerjaan    Gaji\n",
              "0         Budi   Jakarta             1  Data Engineer  4000.0\n",
              "1         Maya     Medan             2     Programmer  5000.0\n",
              "2         Joko  Surabaya             7            NaN     NaN"
            ]
          },
          "metadata": {},
          "execution_count": 15
        }
      ]
    },
    {
      "cell_type": "markdown",
      "metadata": {
        "id": "qF5ljqRjz2rn"
      },
      "source": [
        "# Joining DataFrame"
      ]
    },
    {
      "cell_type": "code",
      "metadata": {
        "colab": {
          "base_uri": "https://localhost:8080/"
        },
        "id": "mmSVRGQGxQ4l",
        "outputId": "304d9bd2-83f8-45e9-aa43-56b73f2ed79e"
      },
      "source": [
        "karyawan = pd.DataFrame({\n",
        "    'Nama': ['Budi', 'Joko', 'Maya'],\n",
        "    'Alamat':['Jakarta','Surabaya','Medan'],\n",
        "    'Id Pekerjaan':[1,7,2]\n",
        "})\n",
        "pekerjaan = pd.DataFrame({\n",
        "    'Id Pekerjaan':[2,1,4,3],\n",
        "    'Nama':['Programmer','Data Engineer','Manager', 'Web Developer'],\n",
        "    'Gaji':[5000,4000,3000,6000]\n",
        "})\n",
        "print(karyawan)\n",
        "print(pekerjaan)"
      ],
      "execution_count": 16,
      "outputs": [
        {
          "output_type": "stream",
          "name": "stdout",
          "text": [
            "   Nama    Alamat  Id Pekerjaan\n",
            "0  Budi   Jakarta             1\n",
            "1  Joko  Surabaya             7\n",
            "2  Maya     Medan             2\n",
            "   Id Pekerjaan           Nama  Gaji\n",
            "0             2     Programmer  5000\n",
            "1             1  Data Engineer  4000\n",
            "2             4        Manager  3000\n",
            "3             3  Web Developer  6000\n"
          ]
        }
      ]
    },
    {
      "cell_type": "code",
      "metadata": {
        "colab": {
          "base_uri": "https://localhost:8080/",
          "height": 111
        },
        "id": "WSDjf5lH0l_s",
        "outputId": "fd7e8394-7638-4dbc-ceb4-e3d1b6fdff97"
      },
      "source": [
        "gabung_join = karyawan.join(pekerjaan,on= 'Id Pekerjaan', how='inner',lsuffix='_pegawai',rsuffix='_pekerjaan' )\n",
        "gabung_join"
      ],
      "execution_count": 21,
      "outputs": [
        {
          "output_type": "execute_result",
          "data": {
            "text/html": [
              "<div>\n",
              "<style scoped>\n",
              "    .dataframe tbody tr th:only-of-type {\n",
              "        vertical-align: middle;\n",
              "    }\n",
              "\n",
              "    .dataframe tbody tr th {\n",
              "        vertical-align: top;\n",
              "    }\n",
              "\n",
              "    .dataframe thead th {\n",
              "        text-align: right;\n",
              "    }\n",
              "</style>\n",
              "<table border=\"1\" class=\"dataframe\">\n",
              "  <thead>\n",
              "    <tr style=\"text-align: right;\">\n",
              "      <th></th>\n",
              "      <th>Id Pekerjaan</th>\n",
              "      <th>Nama_pegawai</th>\n",
              "      <th>Alamat</th>\n",
              "      <th>Id Pekerjaan_pegawai</th>\n",
              "      <th>Id Pekerjaan_pekerjaan</th>\n",
              "      <th>Nama_pekerjaan</th>\n",
              "      <th>Gaji</th>\n",
              "    </tr>\n",
              "  </thead>\n",
              "  <tbody>\n",
              "    <tr>\n",
              "      <th>0</th>\n",
              "      <td>1</td>\n",
              "      <td>Budi</td>\n",
              "      <td>Jakarta</td>\n",
              "      <td>1</td>\n",
              "      <td>1</td>\n",
              "      <td>Data Engineer</td>\n",
              "      <td>4000</td>\n",
              "    </tr>\n",
              "    <tr>\n",
              "      <th>2</th>\n",
              "      <td>2</td>\n",
              "      <td>Maya</td>\n",
              "      <td>Medan</td>\n",
              "      <td>2</td>\n",
              "      <td>4</td>\n",
              "      <td>Manager</td>\n",
              "      <td>3000</td>\n",
              "    </tr>\n",
              "  </tbody>\n",
              "</table>\n",
              "</div>"
            ],
            "text/plain": [
              "   Id Pekerjaan Nama_pegawai  ... Nama_pekerjaan  Gaji\n",
              "0             1         Budi  ...  Data Engineer  4000\n",
              "2             2         Maya  ...        Manager  3000\n",
              "\n",
              "[2 rows x 7 columns]"
            ]
          },
          "metadata": {},
          "execution_count": 21
        }
      ]
    },
    {
      "cell_type": "markdown",
      "metadata": {
        "id": "5x6whWW72O5n"
      },
      "source": [
        "# Concatenate DataFrame"
      ]
    },
    {
      "cell_type": "code",
      "metadata": {
        "colab": {
          "base_uri": "https://localhost:8080/",
          "height": 235
        },
        "id": "U6hMgb4309T_",
        "outputId": "30546748-e5f2-487f-b2c1-68641969d98a"
      },
      "source": [
        "left = pd.DataFrame({\n",
        "    'Nama':['Budi','Joko','Maya'],\n",
        "    'Alamat':['Jakarta','Surabaya','Medan']\n",
        "})\n",
        "right = pd.DataFrame({\n",
        "    'Nama':['Jane','Mike','Dave'],\n",
        "    'Alamat':['Semarang','Yogya','Solo']\n",
        "})\n",
        "gabung_concat = pd.concat([left, right],axis = 0, ignore_index=True)\n",
        "gabung_concat"
      ],
      "execution_count": 27,
      "outputs": [
        {
          "output_type": "execute_result",
          "data": {
            "text/html": [
              "<div>\n",
              "<style scoped>\n",
              "    .dataframe tbody tr th:only-of-type {\n",
              "        vertical-align: middle;\n",
              "    }\n",
              "\n",
              "    .dataframe tbody tr th {\n",
              "        vertical-align: top;\n",
              "    }\n",
              "\n",
              "    .dataframe thead th {\n",
              "        text-align: right;\n",
              "    }\n",
              "</style>\n",
              "<table border=\"1\" class=\"dataframe\">\n",
              "  <thead>\n",
              "    <tr style=\"text-align: right;\">\n",
              "      <th></th>\n",
              "      <th>Nama</th>\n",
              "      <th>Alamat</th>\n",
              "    </tr>\n",
              "  </thead>\n",
              "  <tbody>\n",
              "    <tr>\n",
              "      <th>0</th>\n",
              "      <td>Budi</td>\n",
              "      <td>Jakarta</td>\n",
              "    </tr>\n",
              "    <tr>\n",
              "      <th>1</th>\n",
              "      <td>Joko</td>\n",
              "      <td>Surabaya</td>\n",
              "    </tr>\n",
              "    <tr>\n",
              "      <th>2</th>\n",
              "      <td>Maya</td>\n",
              "      <td>Medan</td>\n",
              "    </tr>\n",
              "    <tr>\n",
              "      <th>3</th>\n",
              "      <td>Jane</td>\n",
              "      <td>Semarang</td>\n",
              "    </tr>\n",
              "    <tr>\n",
              "      <th>4</th>\n",
              "      <td>Mike</td>\n",
              "      <td>Yogya</td>\n",
              "    </tr>\n",
              "    <tr>\n",
              "      <th>5</th>\n",
              "      <td>Dave</td>\n",
              "      <td>Solo</td>\n",
              "    </tr>\n",
              "  </tbody>\n",
              "</table>\n",
              "</div>"
            ],
            "text/plain": [
              "   Nama    Alamat\n",
              "0  Budi   Jakarta\n",
              "1  Joko  Surabaya\n",
              "2  Maya     Medan\n",
              "3  Jane  Semarang\n",
              "4  Mike     Yogya\n",
              "5  Dave      Solo"
            ]
          },
          "metadata": {},
          "execution_count": 27
        }
      ]
    },
    {
      "cell_type": "code",
      "metadata": {
        "colab": {
          "base_uri": "https://localhost:8080/",
          "height": 141
        },
        "id": "1EdgepHb4DsV",
        "outputId": "38240661-a6e8-4f37-81f0-b1cdd6de18ff"
      },
      "source": [
        "gabung_concat = pd.concat([left, right],axis = 1)\n",
        "gabung_concat"
      ],
      "execution_count": 24,
      "outputs": [
        {
          "output_type": "execute_result",
          "data": {
            "text/html": [
              "<div>\n",
              "<style scoped>\n",
              "    .dataframe tbody tr th:only-of-type {\n",
              "        vertical-align: middle;\n",
              "    }\n",
              "\n",
              "    .dataframe tbody tr th {\n",
              "        vertical-align: top;\n",
              "    }\n",
              "\n",
              "    .dataframe thead th {\n",
              "        text-align: right;\n",
              "    }\n",
              "</style>\n",
              "<table border=\"1\" class=\"dataframe\">\n",
              "  <thead>\n",
              "    <tr style=\"text-align: right;\">\n",
              "      <th></th>\n",
              "      <th>Nama</th>\n",
              "      <th>Alamat</th>\n",
              "      <th>Nama</th>\n",
              "      <th>Alamat</th>\n",
              "    </tr>\n",
              "  </thead>\n",
              "  <tbody>\n",
              "    <tr>\n",
              "      <th>0</th>\n",
              "      <td>Budi</td>\n",
              "      <td>Jakarta</td>\n",
              "      <td>Jane</td>\n",
              "      <td>Semarang</td>\n",
              "    </tr>\n",
              "    <tr>\n",
              "      <th>1</th>\n",
              "      <td>Joko</td>\n",
              "      <td>Surabaya</td>\n",
              "      <td>Mike</td>\n",
              "      <td>Yogya</td>\n",
              "    </tr>\n",
              "    <tr>\n",
              "      <th>2</th>\n",
              "      <td>Maya</td>\n",
              "      <td>Medan</td>\n",
              "      <td>Dave</td>\n",
              "      <td>Solo</td>\n",
              "    </tr>\n",
              "  </tbody>\n",
              "</table>\n",
              "</div>"
            ],
            "text/plain": [
              "   Nama    Alamat  Nama    Alamat\n",
              "0  Budi   Jakarta  Jane  Semarang\n",
              "1  Joko  Surabaya  Mike     Yogya\n",
              "2  Maya     Medan  Dave      Solo"
            ]
          },
          "metadata": {},
          "execution_count": 24
        }
      ]
    },
    {
      "cell_type": "code",
      "metadata": {
        "colab": {
          "base_uri": "https://localhost:8080/",
          "height": 235
        },
        "id": "Fb3XPTdA4JJT",
        "outputId": "5879f8c2-05e2-4a09-c67b-dad6f66abc29"
      },
      "source": [
        "left = pd.DataFrame({\n",
        "    'Nama':['Budi','Joko','Maya'],\n",
        "    'Alamat':['Jakarta','Surabaya','Medan']\n",
        "})\n",
        "right = pd.DataFrame({\n",
        "    'Nama':['Jane','Mike','Dave'],\n",
        "    'Gaji':[5000,4000,3000]\n",
        "})\n",
        "gabung_concat2 = pd.concat([left, right],axis = 0, ignore_index=True, join='outer')\n",
        "gabung_concat2"
      ],
      "execution_count": 31,
      "outputs": [
        {
          "output_type": "execute_result",
          "data": {
            "text/html": [
              "<div>\n",
              "<style scoped>\n",
              "    .dataframe tbody tr th:only-of-type {\n",
              "        vertical-align: middle;\n",
              "    }\n",
              "\n",
              "    .dataframe tbody tr th {\n",
              "        vertical-align: top;\n",
              "    }\n",
              "\n",
              "    .dataframe thead th {\n",
              "        text-align: right;\n",
              "    }\n",
              "</style>\n",
              "<table border=\"1\" class=\"dataframe\">\n",
              "  <thead>\n",
              "    <tr style=\"text-align: right;\">\n",
              "      <th></th>\n",
              "      <th>Nama</th>\n",
              "      <th>Alamat</th>\n",
              "      <th>Gaji</th>\n",
              "    </tr>\n",
              "  </thead>\n",
              "  <tbody>\n",
              "    <tr>\n",
              "      <th>0</th>\n",
              "      <td>Budi</td>\n",
              "      <td>Jakarta</td>\n",
              "      <td>NaN</td>\n",
              "    </tr>\n",
              "    <tr>\n",
              "      <th>1</th>\n",
              "      <td>Joko</td>\n",
              "      <td>Surabaya</td>\n",
              "      <td>NaN</td>\n",
              "    </tr>\n",
              "    <tr>\n",
              "      <th>2</th>\n",
              "      <td>Maya</td>\n",
              "      <td>Medan</td>\n",
              "      <td>NaN</td>\n",
              "    </tr>\n",
              "    <tr>\n",
              "      <th>3</th>\n",
              "      <td>Jane</td>\n",
              "      <td>NaN</td>\n",
              "      <td>5000.0</td>\n",
              "    </tr>\n",
              "    <tr>\n",
              "      <th>4</th>\n",
              "      <td>Mike</td>\n",
              "      <td>NaN</td>\n",
              "      <td>4000.0</td>\n",
              "    </tr>\n",
              "    <tr>\n",
              "      <th>5</th>\n",
              "      <td>Dave</td>\n",
              "      <td>NaN</td>\n",
              "      <td>3000.0</td>\n",
              "    </tr>\n",
              "  </tbody>\n",
              "</table>\n",
              "</div>"
            ],
            "text/plain": [
              "   Nama    Alamat    Gaji\n",
              "0  Budi   Jakarta     NaN\n",
              "1  Joko  Surabaya     NaN\n",
              "2  Maya     Medan     NaN\n",
              "3  Jane       NaN  5000.0\n",
              "4  Mike       NaN  4000.0\n",
              "5  Dave       NaN  3000.0"
            ]
          },
          "metadata": {},
          "execution_count": 31
        }
      ]
    },
    {
      "cell_type": "code",
      "metadata": {
        "colab": {
          "base_uri": "https://localhost:8080/",
          "height": 141
        },
        "id": "Tr7MTX7l4re5",
        "outputId": "a2c9f781-66ac-4f8c-855e-09865b95fc2f"
      },
      "source": [
        "gabung_concat2 = pd.concat([left, right],axis = 1, ignore_index=True, join='outer')\n",
        "gabung_concat2"
      ],
      "execution_count": 33,
      "outputs": [
        {
          "output_type": "execute_result",
          "data": {
            "text/html": [
              "<div>\n",
              "<style scoped>\n",
              "    .dataframe tbody tr th:only-of-type {\n",
              "        vertical-align: middle;\n",
              "    }\n",
              "\n",
              "    .dataframe tbody tr th {\n",
              "        vertical-align: top;\n",
              "    }\n",
              "\n",
              "    .dataframe thead th {\n",
              "        text-align: right;\n",
              "    }\n",
              "</style>\n",
              "<table border=\"1\" class=\"dataframe\">\n",
              "  <thead>\n",
              "    <tr style=\"text-align: right;\">\n",
              "      <th></th>\n",
              "      <th>0</th>\n",
              "      <th>1</th>\n",
              "      <th>2</th>\n",
              "      <th>3</th>\n",
              "    </tr>\n",
              "  </thead>\n",
              "  <tbody>\n",
              "    <tr>\n",
              "      <th>0</th>\n",
              "      <td>Budi</td>\n",
              "      <td>Jakarta</td>\n",
              "      <td>Jane</td>\n",
              "      <td>5000</td>\n",
              "    </tr>\n",
              "    <tr>\n",
              "      <th>1</th>\n",
              "      <td>Joko</td>\n",
              "      <td>Surabaya</td>\n",
              "      <td>Mike</td>\n",
              "      <td>4000</td>\n",
              "    </tr>\n",
              "    <tr>\n",
              "      <th>2</th>\n",
              "      <td>Maya</td>\n",
              "      <td>Medan</td>\n",
              "      <td>Dave</td>\n",
              "      <td>3000</td>\n",
              "    </tr>\n",
              "  </tbody>\n",
              "</table>\n",
              "</div>"
            ],
            "text/plain": [
              "      0         1     2     3\n",
              "0  Budi   Jakarta  Jane  5000\n",
              "1  Joko  Surabaya  Mike  4000\n",
              "2  Maya     Medan  Dave  3000"
            ]
          },
          "metadata": {},
          "execution_count": 33
        }
      ]
    },
    {
      "cell_type": "code",
      "metadata": {
        "colab": {
          "base_uri": "https://localhost:8080/",
          "height": 172
        },
        "id": "0SOmABua5T1G",
        "outputId": "82e13f3b-bdfc-429f-88a6-fd868d5451f6"
      },
      "source": [
        "left = pd.DataFrame({\n",
        "    'Nama':['Budi','Joko','Maya'],\n",
        "    'Alamat':['Jakarta','Surabaya','Medan']\n",
        "})\n",
        "right = pd.DataFrame({\n",
        "    'Id Pekerjaan':[2,1,4,3],\n",
        "    'Nama':['Programmer','Data Engineer','Manager', 'Web Developer'],\n",
        "    'Gaji':[5000,4000,3000,6000]\n",
        "})\n",
        "gabung_concat3 = pd.concat([left, right],axis = 1, join='outer')\n",
        "gabung_concat3"
      ],
      "execution_count": 34,
      "outputs": [
        {
          "output_type": "execute_result",
          "data": {
            "text/html": [
              "<div>\n",
              "<style scoped>\n",
              "    .dataframe tbody tr th:only-of-type {\n",
              "        vertical-align: middle;\n",
              "    }\n",
              "\n",
              "    .dataframe tbody tr th {\n",
              "        vertical-align: top;\n",
              "    }\n",
              "\n",
              "    .dataframe thead th {\n",
              "        text-align: right;\n",
              "    }\n",
              "</style>\n",
              "<table border=\"1\" class=\"dataframe\">\n",
              "  <thead>\n",
              "    <tr style=\"text-align: right;\">\n",
              "      <th></th>\n",
              "      <th>Nama</th>\n",
              "      <th>Alamat</th>\n",
              "      <th>Id Pekerjaan</th>\n",
              "      <th>Nama</th>\n",
              "      <th>Gaji</th>\n",
              "    </tr>\n",
              "  </thead>\n",
              "  <tbody>\n",
              "    <tr>\n",
              "      <th>0</th>\n",
              "      <td>Budi</td>\n",
              "      <td>Jakarta</td>\n",
              "      <td>2</td>\n",
              "      <td>Programmer</td>\n",
              "      <td>5000</td>\n",
              "    </tr>\n",
              "    <tr>\n",
              "      <th>1</th>\n",
              "      <td>Joko</td>\n",
              "      <td>Surabaya</td>\n",
              "      <td>1</td>\n",
              "      <td>Data Engineer</td>\n",
              "      <td>4000</td>\n",
              "    </tr>\n",
              "    <tr>\n",
              "      <th>2</th>\n",
              "      <td>Maya</td>\n",
              "      <td>Medan</td>\n",
              "      <td>4</td>\n",
              "      <td>Manager</td>\n",
              "      <td>3000</td>\n",
              "    </tr>\n",
              "    <tr>\n",
              "      <th>3</th>\n",
              "      <td>NaN</td>\n",
              "      <td>NaN</td>\n",
              "      <td>3</td>\n",
              "      <td>Web Developer</td>\n",
              "      <td>6000</td>\n",
              "    </tr>\n",
              "  </tbody>\n",
              "</table>\n",
              "</div>"
            ],
            "text/plain": [
              "   Nama    Alamat  Id Pekerjaan           Nama  Gaji\n",
              "0  Budi   Jakarta             2     Programmer  5000\n",
              "1  Joko  Surabaya             1  Data Engineer  4000\n",
              "2  Maya     Medan             4        Manager  3000\n",
              "3   NaN       NaN             3  Web Developer  6000"
            ]
          },
          "metadata": {},
          "execution_count": 34
        }
      ]
    },
    {
      "cell_type": "markdown",
      "metadata": {
        "id": "venUg7Q56HBY"
      },
      "source": [
        "# Append DataFrame"
      ]
    },
    {
      "cell_type": "code",
      "metadata": {
        "colab": {
          "base_uri": "https://localhost:8080/",
          "height": 235
        },
        "id": "dfugjrYF50JO",
        "outputId": "644dfe6b-fcf6-4229-c248-80616c974dd6"
      },
      "source": [
        "left = pd.DataFrame({\n",
        "    'Nama':['Budi','Joko','Maya'],\n",
        "    'Alamat':['Jakarta','Surabaya','Medan']\n",
        "})\n",
        "right = pd.DataFrame({\n",
        "    'Nama':['Jane','Mike','Dave'],\n",
        "    'Alamat':['Semarang','Yogya','Solo']\n",
        "})\n",
        "gabung_append= left.append(right, ignore_index=True)\n",
        "gabung_append"
      ],
      "execution_count": 43,
      "outputs": [
        {
          "output_type": "execute_result",
          "data": {
            "text/html": [
              "<div>\n",
              "<style scoped>\n",
              "    .dataframe tbody tr th:only-of-type {\n",
              "        vertical-align: middle;\n",
              "    }\n",
              "\n",
              "    .dataframe tbody tr th {\n",
              "        vertical-align: top;\n",
              "    }\n",
              "\n",
              "    .dataframe thead th {\n",
              "        text-align: right;\n",
              "    }\n",
              "</style>\n",
              "<table border=\"1\" class=\"dataframe\">\n",
              "  <thead>\n",
              "    <tr style=\"text-align: right;\">\n",
              "      <th></th>\n",
              "      <th>Nama</th>\n",
              "      <th>Alamat</th>\n",
              "    </tr>\n",
              "  </thead>\n",
              "  <tbody>\n",
              "    <tr>\n",
              "      <th>0</th>\n",
              "      <td>Budi</td>\n",
              "      <td>Jakarta</td>\n",
              "    </tr>\n",
              "    <tr>\n",
              "      <th>1</th>\n",
              "      <td>Joko</td>\n",
              "      <td>Surabaya</td>\n",
              "    </tr>\n",
              "    <tr>\n",
              "      <th>2</th>\n",
              "      <td>Maya</td>\n",
              "      <td>Medan</td>\n",
              "    </tr>\n",
              "    <tr>\n",
              "      <th>3</th>\n",
              "      <td>Jane</td>\n",
              "      <td>Semarang</td>\n",
              "    </tr>\n",
              "    <tr>\n",
              "      <th>4</th>\n",
              "      <td>Mike</td>\n",
              "      <td>Yogya</td>\n",
              "    </tr>\n",
              "    <tr>\n",
              "      <th>5</th>\n",
              "      <td>Dave</td>\n",
              "      <td>Solo</td>\n",
              "    </tr>\n",
              "  </tbody>\n",
              "</table>\n",
              "</div>"
            ],
            "text/plain": [
              "   Nama    Alamat\n",
              "0  Budi   Jakarta\n",
              "1  Joko  Surabaya\n",
              "2  Maya     Medan\n",
              "3  Jane  Semarang\n",
              "4  Mike     Yogya\n",
              "5  Dave      Solo"
            ]
          },
          "metadata": {},
          "execution_count": 43
        }
      ]
    },
    {
      "cell_type": "markdown",
      "metadata": {
        "id": "fjMSpmPd96Ey"
      },
      "source": [
        "# Indexing in DataFrame"
      ]
    },
    {
      "cell_type": "markdown",
      "metadata": {
        "id": "lIwKyz5T8Nwn"
      },
      "source": [
        "## Reset Index"
      ]
    },
    {
      "cell_type": "code",
      "metadata": {
        "colab": {
          "base_uri": "https://localhost:8080/",
          "height": 235
        },
        "id": "QFSYQg-l9BEh",
        "outputId": "3179f028-8891-41d7-9f30-61cf0ef73b7a"
      },
      "source": [
        "left = pd.DataFrame({\n",
        "    'Nama':['Budi','Joko','Maya'],\n",
        "    'Alamat':['Jakarta','Surabaya','Medan']\n",
        "})\n",
        "right = pd.DataFrame({\n",
        "    'Nama':['Jane','Mike','Dave'],\n",
        "    'Alamat':['Semarang','Yogya','Solo']\n",
        "})\n",
        "gabung_append2= left.append(right)\n",
        "gabung_append2"
      ],
      "execution_count": 46,
      "outputs": [
        {
          "output_type": "execute_result",
          "data": {
            "text/html": [
              "<div>\n",
              "<style scoped>\n",
              "    .dataframe tbody tr th:only-of-type {\n",
              "        vertical-align: middle;\n",
              "    }\n",
              "\n",
              "    .dataframe tbody tr th {\n",
              "        vertical-align: top;\n",
              "    }\n",
              "\n",
              "    .dataframe thead th {\n",
              "        text-align: right;\n",
              "    }\n",
              "</style>\n",
              "<table border=\"1\" class=\"dataframe\">\n",
              "  <thead>\n",
              "    <tr style=\"text-align: right;\">\n",
              "      <th></th>\n",
              "      <th>Nama</th>\n",
              "      <th>Alamat</th>\n",
              "    </tr>\n",
              "  </thead>\n",
              "  <tbody>\n",
              "    <tr>\n",
              "      <th>0</th>\n",
              "      <td>Budi</td>\n",
              "      <td>Jakarta</td>\n",
              "    </tr>\n",
              "    <tr>\n",
              "      <th>1</th>\n",
              "      <td>Joko</td>\n",
              "      <td>Surabaya</td>\n",
              "    </tr>\n",
              "    <tr>\n",
              "      <th>2</th>\n",
              "      <td>Maya</td>\n",
              "      <td>Medan</td>\n",
              "    </tr>\n",
              "    <tr>\n",
              "      <th>0</th>\n",
              "      <td>Jane</td>\n",
              "      <td>Semarang</td>\n",
              "    </tr>\n",
              "    <tr>\n",
              "      <th>1</th>\n",
              "      <td>Mike</td>\n",
              "      <td>Yogya</td>\n",
              "    </tr>\n",
              "    <tr>\n",
              "      <th>2</th>\n",
              "      <td>Dave</td>\n",
              "      <td>Solo</td>\n",
              "    </tr>\n",
              "  </tbody>\n",
              "</table>\n",
              "</div>"
            ],
            "text/plain": [
              "   Nama    Alamat\n",
              "0  Budi   Jakarta\n",
              "1  Joko  Surabaya\n",
              "2  Maya     Medan\n",
              "0  Jane  Semarang\n",
              "1  Mike     Yogya\n",
              "2  Dave      Solo"
            ]
          },
          "metadata": {},
          "execution_count": 46
        }
      ]
    },
    {
      "cell_type": "code",
      "metadata": {
        "colab": {
          "base_uri": "https://localhost:8080/",
          "height": 235
        },
        "id": "vpoLg-P76YFA",
        "outputId": "bf3804cf-f10f-45a8-ed9e-5db7674d4c08"
      },
      "source": [
        "new = gabung_append2.reset_index(drop= True)\n",
        "new"
      ],
      "execution_count": 47,
      "outputs": [
        {
          "output_type": "execute_result",
          "data": {
            "text/html": [
              "<div>\n",
              "<style scoped>\n",
              "    .dataframe tbody tr th:only-of-type {\n",
              "        vertical-align: middle;\n",
              "    }\n",
              "\n",
              "    .dataframe tbody tr th {\n",
              "        vertical-align: top;\n",
              "    }\n",
              "\n",
              "    .dataframe thead th {\n",
              "        text-align: right;\n",
              "    }\n",
              "</style>\n",
              "<table border=\"1\" class=\"dataframe\">\n",
              "  <thead>\n",
              "    <tr style=\"text-align: right;\">\n",
              "      <th></th>\n",
              "      <th>Nama</th>\n",
              "      <th>Alamat</th>\n",
              "    </tr>\n",
              "  </thead>\n",
              "  <tbody>\n",
              "    <tr>\n",
              "      <th>0</th>\n",
              "      <td>Budi</td>\n",
              "      <td>Jakarta</td>\n",
              "    </tr>\n",
              "    <tr>\n",
              "      <th>1</th>\n",
              "      <td>Joko</td>\n",
              "      <td>Surabaya</td>\n",
              "    </tr>\n",
              "    <tr>\n",
              "      <th>2</th>\n",
              "      <td>Maya</td>\n",
              "      <td>Medan</td>\n",
              "    </tr>\n",
              "    <tr>\n",
              "      <th>3</th>\n",
              "      <td>Jane</td>\n",
              "      <td>Semarang</td>\n",
              "    </tr>\n",
              "    <tr>\n",
              "      <th>4</th>\n",
              "      <td>Mike</td>\n",
              "      <td>Yogya</td>\n",
              "    </tr>\n",
              "    <tr>\n",
              "      <th>5</th>\n",
              "      <td>Dave</td>\n",
              "      <td>Solo</td>\n",
              "    </tr>\n",
              "  </tbody>\n",
              "</table>\n",
              "</div>"
            ],
            "text/plain": [
              "   Nama    Alamat\n",
              "0  Budi   Jakarta\n",
              "1  Joko  Surabaya\n",
              "2  Maya     Medan\n",
              "3  Jane  Semarang\n",
              "4  Mike     Yogya\n",
              "5  Dave      Solo"
            ]
          },
          "metadata": {},
          "execution_count": 47
        }
      ]
    },
    {
      "cell_type": "markdown",
      "metadata": {
        "id": "ZBy-kIAF9zdo"
      },
      "source": [
        "## Set Index"
      ]
    },
    {
      "cell_type": "code",
      "metadata": {
        "colab": {
          "base_uri": "https://localhost:8080/"
        },
        "id": "PbH-ABpW8wA6",
        "outputId": "74d0cc47-da56-44d8-c0c9-683650f4add1"
      },
      "source": [
        "#set_index\n",
        "left = pd.DataFrame({\n",
        "    'ID':['001','002','003'],\n",
        "    'Nama':['Budi','Joko','Maya'],\n",
        "    'Alamat':['Jakarta','Surabaya','Medan']\n",
        "})\n",
        "print(left)"
      ],
      "execution_count": 58,
      "outputs": [
        {
          "output_type": "stream",
          "name": "stdout",
          "text": [
            "    ID  Nama    Alamat\n",
            "0  001  Budi   Jakarta\n",
            "1  002  Joko  Surabaya\n",
            "2  003  Maya     Medan\n"
          ]
        }
      ]
    },
    {
      "cell_type": "code",
      "metadata": {
        "colab": {
          "base_uri": "https://localhost:8080/",
          "height": 172
        },
        "id": "CfBRZlKs-GsO",
        "outputId": "3ca7862e-438a-498e-fef6-54379e41b826"
      },
      "source": [
        "left.set_index('ID',inplace=True)\n",
        "left"
      ],
      "execution_count": 59,
      "outputs": [
        {
          "output_type": "execute_result",
          "data": {
            "text/html": [
              "<div>\n",
              "<style scoped>\n",
              "    .dataframe tbody tr th:only-of-type {\n",
              "        vertical-align: middle;\n",
              "    }\n",
              "\n",
              "    .dataframe tbody tr th {\n",
              "        vertical-align: top;\n",
              "    }\n",
              "\n",
              "    .dataframe thead th {\n",
              "        text-align: right;\n",
              "    }\n",
              "</style>\n",
              "<table border=\"1\" class=\"dataframe\">\n",
              "  <thead>\n",
              "    <tr style=\"text-align: right;\">\n",
              "      <th></th>\n",
              "      <th>Nama</th>\n",
              "      <th>Alamat</th>\n",
              "    </tr>\n",
              "    <tr>\n",
              "      <th>ID</th>\n",
              "      <th></th>\n",
              "      <th></th>\n",
              "    </tr>\n",
              "  </thead>\n",
              "  <tbody>\n",
              "    <tr>\n",
              "      <th>001</th>\n",
              "      <td>Budi</td>\n",
              "      <td>Jakarta</td>\n",
              "    </tr>\n",
              "    <tr>\n",
              "      <th>002</th>\n",
              "      <td>Joko</td>\n",
              "      <td>Surabaya</td>\n",
              "    </tr>\n",
              "    <tr>\n",
              "      <th>003</th>\n",
              "      <td>Maya</td>\n",
              "      <td>Medan</td>\n",
              "    </tr>\n",
              "  </tbody>\n",
              "</table>\n",
              "</div>"
            ],
            "text/plain": [
              "     Nama    Alamat\n",
              "ID                 \n",
              "001  Budi   Jakarta\n",
              "002  Joko  Surabaya\n",
              "003  Maya     Medan"
            ]
          },
          "metadata": {},
          "execution_count": 59
        }
      ]
    },
    {
      "cell_type": "code",
      "metadata": {
        "colab": {
          "base_uri": "https://localhost:8080/"
        },
        "id": "wHHxgMWW-Iwo",
        "outputId": "2067cefb-a098-4fd7-cc6a-b3cfc2698d0a"
      },
      "source": [
        "left.loc['003']"
      ],
      "execution_count": 63,
      "outputs": [
        {
          "output_type": "execute_result",
          "data": {
            "text/plain": [
              "Nama       Maya\n",
              "Alamat    Medan\n",
              "Name: 003, dtype: object"
            ]
          },
          "metadata": {},
          "execution_count": 63
        }
      ]
    },
    {
      "cell_type": "markdown",
      "metadata": {
        "id": "FBZy6SY4_OU7"
      },
      "source": [
        "# Pivoting Table"
      ]
    },
    {
      "cell_type": "code",
      "metadata": {
        "colab": {
          "base_uri": "https://localhost:8080/",
          "height": 235
        },
        "id": "4L7ucmll-1IN",
        "outputId": "88bab111-1126-41e9-eebc-cfeeb50e9c3f"
      },
      "source": [
        "employee = pd.DataFrame({\n",
        "    'Emp Id':['001','002','003','004','005','006'],\n",
        "    'Nama':['Budi','Joko','Maya','Andi','Dewi','Dian'],\n",
        "    'Gender':['Pria','Pria','Perempuan','Pria','Perempuan','Perempuan'],\n",
        "    'Pekerjaan':['Programmer','Data Engineer','Programmer','Manager','Manager','Manager'],\n",
        "    'Gaji':[5000,4000,5000,6000,8000,6000]\n",
        "})\n",
        "employee"
      ],
      "execution_count": 65,
      "outputs": [
        {
          "output_type": "execute_result",
          "data": {
            "text/html": [
              "<div>\n",
              "<style scoped>\n",
              "    .dataframe tbody tr th:only-of-type {\n",
              "        vertical-align: middle;\n",
              "    }\n",
              "\n",
              "    .dataframe tbody tr th {\n",
              "        vertical-align: top;\n",
              "    }\n",
              "\n",
              "    .dataframe thead th {\n",
              "        text-align: right;\n",
              "    }\n",
              "</style>\n",
              "<table border=\"1\" class=\"dataframe\">\n",
              "  <thead>\n",
              "    <tr style=\"text-align: right;\">\n",
              "      <th></th>\n",
              "      <th>Emp Id</th>\n",
              "      <th>Nama</th>\n",
              "      <th>Gender</th>\n",
              "      <th>Pekerjaan</th>\n",
              "      <th>Gaji</th>\n",
              "    </tr>\n",
              "  </thead>\n",
              "  <tbody>\n",
              "    <tr>\n",
              "      <th>0</th>\n",
              "      <td>001</td>\n",
              "      <td>Budi</td>\n",
              "      <td>Pria</td>\n",
              "      <td>Programmer</td>\n",
              "      <td>5000</td>\n",
              "    </tr>\n",
              "    <tr>\n",
              "      <th>1</th>\n",
              "      <td>002</td>\n",
              "      <td>Joko</td>\n",
              "      <td>Pria</td>\n",
              "      <td>Data Engineer</td>\n",
              "      <td>4000</td>\n",
              "    </tr>\n",
              "    <tr>\n",
              "      <th>2</th>\n",
              "      <td>003</td>\n",
              "      <td>Maya</td>\n",
              "      <td>Perempuan</td>\n",
              "      <td>Programmer</td>\n",
              "      <td>5000</td>\n",
              "    </tr>\n",
              "    <tr>\n",
              "      <th>3</th>\n",
              "      <td>004</td>\n",
              "      <td>Andi</td>\n",
              "      <td>Pria</td>\n",
              "      <td>Manager</td>\n",
              "      <td>6000</td>\n",
              "    </tr>\n",
              "    <tr>\n",
              "      <th>4</th>\n",
              "      <td>005</td>\n",
              "      <td>Dewi</td>\n",
              "      <td>Perempuan</td>\n",
              "      <td>Manager</td>\n",
              "      <td>8000</td>\n",
              "    </tr>\n",
              "    <tr>\n",
              "      <th>5</th>\n",
              "      <td>006</td>\n",
              "      <td>Dian</td>\n",
              "      <td>Perempuan</td>\n",
              "      <td>Manager</td>\n",
              "      <td>6000</td>\n",
              "    </tr>\n",
              "  </tbody>\n",
              "</table>\n",
              "</div>"
            ],
            "text/plain": [
              "  Emp Id  Nama     Gender      Pekerjaan  Gaji\n",
              "0    001  Budi       Pria     Programmer  5000\n",
              "1    002  Joko       Pria  Data Engineer  4000\n",
              "2    003  Maya  Perempuan     Programmer  5000\n",
              "3    004  Andi       Pria        Manager  6000\n",
              "4    005  Dewi  Perempuan        Manager  8000\n",
              "5    006  Dian  Perempuan        Manager  6000"
            ]
          },
          "metadata": {},
          "execution_count": 65
        }
      ]
    },
    {
      "cell_type": "code",
      "metadata": {
        "colab": {
          "base_uri": "https://localhost:8080/",
          "height": 141
        },
        "id": "B7aXHQKiBX1y",
        "outputId": "a41d885c-f4a1-49cb-f4e3-551a6961766c"
      },
      "source": [
        "pivot_table = pd.pivot_table(employee, columns=['Gender','Pekerjaan'], aggfunc={'Gaji':'mean','Pekerjaan':'count'})\n",
        "pivot_table"
      ],
      "execution_count": 74,
      "outputs": [
        {
          "output_type": "execute_result",
          "data": {
            "text/html": [
              "<div>\n",
              "<style scoped>\n",
              "    .dataframe tbody tr th:only-of-type {\n",
              "        vertical-align: middle;\n",
              "    }\n",
              "\n",
              "    .dataframe tbody tr th {\n",
              "        vertical-align: top;\n",
              "    }\n",
              "\n",
              "    .dataframe thead tr th {\n",
              "        text-align: left;\n",
              "    }\n",
              "</style>\n",
              "<table border=\"1\" class=\"dataframe\">\n",
              "  <thead>\n",
              "    <tr>\n",
              "      <th>Gender</th>\n",
              "      <th colspan=\"2\" halign=\"left\">Perempuan</th>\n",
              "      <th colspan=\"3\" halign=\"left\">Pria</th>\n",
              "    </tr>\n",
              "    <tr>\n",
              "      <th>Pekerjaan</th>\n",
              "      <th>Manager</th>\n",
              "      <th>Programmer</th>\n",
              "      <th>Data Engineer</th>\n",
              "      <th>Manager</th>\n",
              "      <th>Programmer</th>\n",
              "    </tr>\n",
              "  </thead>\n",
              "  <tbody>\n",
              "    <tr>\n",
              "      <th>Gaji</th>\n",
              "      <td>7000</td>\n",
              "      <td>5000</td>\n",
              "      <td>4000</td>\n",
              "      <td>6000</td>\n",
              "      <td>5000</td>\n",
              "    </tr>\n",
              "    <tr>\n",
              "      <th>Pekerjaan</th>\n",
              "      <td>2</td>\n",
              "      <td>1</td>\n",
              "      <td>1</td>\n",
              "      <td>1</td>\n",
              "      <td>1</td>\n",
              "    </tr>\n",
              "  </tbody>\n",
              "</table>\n",
              "</div>"
            ],
            "text/plain": [
              "Gender    Perempuan                     Pria                   \n",
              "Pekerjaan   Manager Programmer Data Engineer Manager Programmer\n",
              "Gaji           7000       5000          4000    6000       5000\n",
              "Pekerjaan         2          1             1       1          1"
            ]
          },
          "metadata": {},
          "execution_count": 74
        }
      ]
    },
    {
      "cell_type": "markdown",
      "metadata": {
        "id": "zO4EoemACGQt"
      },
      "source": [
        "## Melting Table"
      ]
    },
    {
      "cell_type": "code",
      "metadata": {
        "colab": {
          "base_uri": "https://localhost:8080/",
          "height": 141
        },
        "id": "A9WtsHuqCFYt",
        "outputId": "5278348c-902d-4e32-92da-7a47fdfd1870"
      },
      "source": [
        "mahasiswa = pd.DataFrame({\n",
        "    'Mhs Id':['001','002','003'],\n",
        "    'Nama':['Budi','Joko','Maya'],\n",
        "    'Bhs Inggris':[100,90,98],\n",
        "    'Matematika':[90,87,72],\n",
        "    'Ekonomi':[90,80,78]\n",
        "})\n",
        "mahasiswa"
      ],
      "execution_count": 79,
      "outputs": [
        {
          "output_type": "execute_result",
          "data": {
            "text/html": [
              "<div>\n",
              "<style scoped>\n",
              "    .dataframe tbody tr th:only-of-type {\n",
              "        vertical-align: middle;\n",
              "    }\n",
              "\n",
              "    .dataframe tbody tr th {\n",
              "        vertical-align: top;\n",
              "    }\n",
              "\n",
              "    .dataframe thead th {\n",
              "        text-align: right;\n",
              "    }\n",
              "</style>\n",
              "<table border=\"1\" class=\"dataframe\">\n",
              "  <thead>\n",
              "    <tr style=\"text-align: right;\">\n",
              "      <th></th>\n",
              "      <th>Mhs Id</th>\n",
              "      <th>Nama</th>\n",
              "      <th>Bhs Inggris</th>\n",
              "      <th>Matematika</th>\n",
              "      <th>Ekonomi</th>\n",
              "    </tr>\n",
              "  </thead>\n",
              "  <tbody>\n",
              "    <tr>\n",
              "      <th>0</th>\n",
              "      <td>001</td>\n",
              "      <td>Budi</td>\n",
              "      <td>100</td>\n",
              "      <td>90</td>\n",
              "      <td>90</td>\n",
              "    </tr>\n",
              "    <tr>\n",
              "      <th>1</th>\n",
              "      <td>002</td>\n",
              "      <td>Joko</td>\n",
              "      <td>90</td>\n",
              "      <td>87</td>\n",
              "      <td>80</td>\n",
              "    </tr>\n",
              "    <tr>\n",
              "      <th>2</th>\n",
              "      <td>003</td>\n",
              "      <td>Maya</td>\n",
              "      <td>98</td>\n",
              "      <td>72</td>\n",
              "      <td>78</td>\n",
              "    </tr>\n",
              "  </tbody>\n",
              "</table>\n",
              "</div>"
            ],
            "text/plain": [
              "  Mhs Id  Nama  Bhs Inggris  Matematika  Ekonomi\n",
              "0    001  Budi          100          90       90\n",
              "1    002  Joko           90          87       80\n",
              "2    003  Maya           98          72       78"
            ]
          },
          "metadata": {},
          "execution_count": 79
        }
      ]
    },
    {
      "cell_type": "code",
      "metadata": {
        "colab": {
          "base_uri": "https://localhost:8080/",
          "height": 327
        },
        "id": "2dnf3yx8FT8T",
        "outputId": "52436a74-391b-47cf-810d-95cef922eeac"
      },
      "source": [
        "melt_table= pd.melt(mahasiswa,id_vars=['Mhs Id','Nama'], value_vars=['Bhs Inggris','Matematika','Ekonomi'])\n",
        "melt_table"
      ],
      "execution_count": 80,
      "outputs": [
        {
          "output_type": "execute_result",
          "data": {
            "text/html": [
              "<div>\n",
              "<style scoped>\n",
              "    .dataframe tbody tr th:only-of-type {\n",
              "        vertical-align: middle;\n",
              "    }\n",
              "\n",
              "    .dataframe tbody tr th {\n",
              "        vertical-align: top;\n",
              "    }\n",
              "\n",
              "    .dataframe thead th {\n",
              "        text-align: right;\n",
              "    }\n",
              "</style>\n",
              "<table border=\"1\" class=\"dataframe\">\n",
              "  <thead>\n",
              "    <tr style=\"text-align: right;\">\n",
              "      <th></th>\n",
              "      <th>Mhs Id</th>\n",
              "      <th>Nama</th>\n",
              "      <th>variable</th>\n",
              "      <th>value</th>\n",
              "    </tr>\n",
              "  </thead>\n",
              "  <tbody>\n",
              "    <tr>\n",
              "      <th>0</th>\n",
              "      <td>001</td>\n",
              "      <td>Budi</td>\n",
              "      <td>Bhs Inggris</td>\n",
              "      <td>100</td>\n",
              "    </tr>\n",
              "    <tr>\n",
              "      <th>1</th>\n",
              "      <td>002</td>\n",
              "      <td>Joko</td>\n",
              "      <td>Bhs Inggris</td>\n",
              "      <td>90</td>\n",
              "    </tr>\n",
              "    <tr>\n",
              "      <th>2</th>\n",
              "      <td>003</td>\n",
              "      <td>Maya</td>\n",
              "      <td>Bhs Inggris</td>\n",
              "      <td>98</td>\n",
              "    </tr>\n",
              "    <tr>\n",
              "      <th>3</th>\n",
              "      <td>001</td>\n",
              "      <td>Budi</td>\n",
              "      <td>Matematika</td>\n",
              "      <td>90</td>\n",
              "    </tr>\n",
              "    <tr>\n",
              "      <th>4</th>\n",
              "      <td>002</td>\n",
              "      <td>Joko</td>\n",
              "      <td>Matematika</td>\n",
              "      <td>87</td>\n",
              "    </tr>\n",
              "    <tr>\n",
              "      <th>5</th>\n",
              "      <td>003</td>\n",
              "      <td>Maya</td>\n",
              "      <td>Matematika</td>\n",
              "      <td>72</td>\n",
              "    </tr>\n",
              "    <tr>\n",
              "      <th>6</th>\n",
              "      <td>001</td>\n",
              "      <td>Budi</td>\n",
              "      <td>Ekonomi</td>\n",
              "      <td>90</td>\n",
              "    </tr>\n",
              "    <tr>\n",
              "      <th>7</th>\n",
              "      <td>002</td>\n",
              "      <td>Joko</td>\n",
              "      <td>Ekonomi</td>\n",
              "      <td>80</td>\n",
              "    </tr>\n",
              "    <tr>\n",
              "      <th>8</th>\n",
              "      <td>003</td>\n",
              "      <td>Maya</td>\n",
              "      <td>Ekonomi</td>\n",
              "      <td>78</td>\n",
              "    </tr>\n",
              "  </tbody>\n",
              "</table>\n",
              "</div>"
            ],
            "text/plain": [
              "  Mhs Id  Nama     variable  value\n",
              "0    001  Budi  Bhs Inggris    100\n",
              "1    002  Joko  Bhs Inggris     90\n",
              "2    003  Maya  Bhs Inggris     98\n",
              "3    001  Budi   Matematika     90\n",
              "4    002  Joko   Matematika     87\n",
              "5    003  Maya   Matematika     72\n",
              "6    001  Budi      Ekonomi     90\n",
              "7    002  Joko      Ekonomi     80\n",
              "8    003  Maya      Ekonomi     78"
            ]
          },
          "metadata": {},
          "execution_count": 80
        }
      ]
    },
    {
      "cell_type": "markdown",
      "metadata": {
        "id": "kg6OV5CMDuQS"
      },
      "source": [
        "# Lambda Functions"
      ]
    },
    {
      "cell_type": "code",
      "metadata": {
        "colab": {
          "base_uri": "https://localhost:8080/"
        },
        "id": "t5SRaNw2DtqH",
        "outputId": "bea44b83-1b1f-44a3-8e42-ef65301f5d02"
      },
      "source": [
        "x = lambda a,b : a*b\n",
        "print(x(5,6))"
      ],
      "execution_count": 75,
      "outputs": [
        {
          "output_type": "stream",
          "name": "stdout",
          "text": [
            "30\n"
          ]
        }
      ]
    },
    {
      "cell_type": "code",
      "metadata": {
        "colab": {
          "base_uri": "https://localhost:8080/"
        },
        "id": "2eW-02fRES_o",
        "outputId": "a3b1bde1-8ab0-40ee-a824-21e73d4ce005"
      },
      "source": [
        "y = lambda a: a+10\n",
        "print(y(5))"
      ],
      "execution_count": 76,
      "outputs": [
        {
          "output_type": "stream",
          "name": "stdout",
          "text": [
            "15\n"
          ]
        }
      ]
    },
    {
      "cell_type": "code",
      "metadata": {
        "colab": {
          "base_uri": "https://localhost:8080/"
        },
        "id": "LJ0xqGN0Ebkp",
        "outputId": "e37c310c-22bf-4b4e-8261-188f261c60aa"
      },
      "source": [
        "status = lambda umur: 'remaja' if umur >10 and umur <20 else 'bukan remaja'\n",
        "print(status(16))"
      ],
      "execution_count": 77,
      "outputs": [
        {
          "output_type": "stream",
          "name": "stdout",
          "text": [
            "remaja\n"
          ]
        }
      ]
    },
    {
      "cell_type": "code",
      "metadata": {
        "colab": {
          "base_uri": "https://localhost:8080/",
          "height": 141
        },
        "id": "Zh_fADyeGURf",
        "outputId": "496545c5-dfcd-4995-934b-09f2725bdcc0"
      },
      "source": [
        "# apply\n",
        "student = pd.DataFrame({\n",
        "    'Mhs Id':['001','002','003'],\n",
        "    'Nama':['Budi','Joko','Maya'],\n",
        "    'Matematika':[100,80,67],\n",
        "})\n",
        "student"
      ],
      "execution_count": 91,
      "outputs": [
        {
          "output_type": "execute_result",
          "data": {
            "text/html": [
              "<div>\n",
              "<style scoped>\n",
              "    .dataframe tbody tr th:only-of-type {\n",
              "        vertical-align: middle;\n",
              "    }\n",
              "\n",
              "    .dataframe tbody tr th {\n",
              "        vertical-align: top;\n",
              "    }\n",
              "\n",
              "    .dataframe thead th {\n",
              "        text-align: right;\n",
              "    }\n",
              "</style>\n",
              "<table border=\"1\" class=\"dataframe\">\n",
              "  <thead>\n",
              "    <tr style=\"text-align: right;\">\n",
              "      <th></th>\n",
              "      <th>Mhs Id</th>\n",
              "      <th>Nama</th>\n",
              "      <th>Matematika</th>\n",
              "    </tr>\n",
              "  </thead>\n",
              "  <tbody>\n",
              "    <tr>\n",
              "      <th>0</th>\n",
              "      <td>001</td>\n",
              "      <td>Budi</td>\n",
              "      <td>100</td>\n",
              "    </tr>\n",
              "    <tr>\n",
              "      <th>1</th>\n",
              "      <td>002</td>\n",
              "      <td>Joko</td>\n",
              "      <td>80</td>\n",
              "    </tr>\n",
              "    <tr>\n",
              "      <th>2</th>\n",
              "      <td>003</td>\n",
              "      <td>Maya</td>\n",
              "      <td>67</td>\n",
              "    </tr>\n",
              "  </tbody>\n",
              "</table>\n",
              "</div>"
            ],
            "text/plain": [
              "  Mhs Id  Nama  Matematika\n",
              "0    001  Budi         100\n",
              "1    002  Joko          80\n",
              "2    003  Maya          67"
            ]
          },
          "metadata": {},
          "execution_count": 91
        }
      ]
    },
    {
      "cell_type": "code",
      "metadata": {
        "colab": {
          "base_uri": "https://localhost:8080/",
          "height": 141
        },
        "id": "lfTpC6DtGkrm",
        "outputId": "6a97b981-8775-4e6c-b5f9-6e516b37e7b5"
      },
      "source": [
        "student['Grade'] = student['Matematika'].apply(lambda nilai:\n",
        "                                                 'A' if nilai >=90 else('B' if nilai >=70 and nilai<90 else 'C'))\n",
        "student"
      ],
      "execution_count": 92,
      "outputs": [
        {
          "output_type": "execute_result",
          "data": {
            "text/html": [
              "<div>\n",
              "<style scoped>\n",
              "    .dataframe tbody tr th:only-of-type {\n",
              "        vertical-align: middle;\n",
              "    }\n",
              "\n",
              "    .dataframe tbody tr th {\n",
              "        vertical-align: top;\n",
              "    }\n",
              "\n",
              "    .dataframe thead th {\n",
              "        text-align: right;\n",
              "    }\n",
              "</style>\n",
              "<table border=\"1\" class=\"dataframe\">\n",
              "  <thead>\n",
              "    <tr style=\"text-align: right;\">\n",
              "      <th></th>\n",
              "      <th>Mhs Id</th>\n",
              "      <th>Nama</th>\n",
              "      <th>Matematika</th>\n",
              "      <th>Grade</th>\n",
              "    </tr>\n",
              "  </thead>\n",
              "  <tbody>\n",
              "    <tr>\n",
              "      <th>0</th>\n",
              "      <td>001</td>\n",
              "      <td>Budi</td>\n",
              "      <td>100</td>\n",
              "      <td>A</td>\n",
              "    </tr>\n",
              "    <tr>\n",
              "      <th>1</th>\n",
              "      <td>002</td>\n",
              "      <td>Joko</td>\n",
              "      <td>80</td>\n",
              "      <td>B</td>\n",
              "    </tr>\n",
              "    <tr>\n",
              "      <th>2</th>\n",
              "      <td>003</td>\n",
              "      <td>Maya</td>\n",
              "      <td>67</td>\n",
              "      <td>C</td>\n",
              "    </tr>\n",
              "  </tbody>\n",
              "</table>\n",
              "</div>"
            ],
            "text/plain": [
              "  Mhs Id  Nama  Matematika Grade\n",
              "0    001  Budi         100     A\n",
              "1    002  Joko          80     B\n",
              "2    003  Maya          67     C"
            ]
          },
          "metadata": {},
          "execution_count": 92
        }
      ]
    }
  ]
}